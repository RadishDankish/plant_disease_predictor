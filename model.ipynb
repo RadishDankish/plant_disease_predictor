{
 "cells": [
  {
   "cell_type": "code",
   "execution_count": 1,
   "metadata": {},
   "outputs": [],
   "source": [
    "import torch\n",
    "from torchvision import datasets, transforms\n",
    "from torch.utils.data import DataLoader, random_split\n",
    "import os\n",
    "import torch.nn as nn\n",
    "import torch.optim as optim\n",
    "import torch.nn.functional as F\n",
    "import torchinfo\n",
    "from PIL import Image"
   ]
  },
  {
   "cell_type": "code",
   "execution_count": 2,
   "metadata": {},
   "outputs": [],
   "source": [
    "transform = transforms.Compose([\n",
    "    transforms.ToTensor(),\n",
    "    transforms.Resize((224, 224))\n",
    "])"
   ]
  },
  {
   "cell_type": "code",
   "execution_count": 3,
   "metadata": {},
   "outputs": [],
   "source": [
    "train_dataset = datasets.ImageFolder(root='/home/danish/Desktop/ML_DL/plant_disease/new plant diseases dataset(augmented)/New Plant Diseases Dataset(Augmented)/train', transform=transform)\n",
    "val_dataset = datasets.ImageFolder(root='/home/danish/Desktop/ML_DL/plant_disease/new plant diseases dataset(augmented)/New Plant Diseases Dataset(Augmented)/valid', transform=transform)"
   ]
  },
  {
   "cell_type": "code",
   "execution_count": 4,
   "metadata": {},
   "outputs": [],
   "source": [
    "num_classes = len(train_dataset.classes)"
   ]
  },
  {
   "cell_type": "code",
   "execution_count": null,
   "metadata": {},
   "outputs": [],
   "source": [
    "train_loader = DataLoader(train_dataset, batch_size=16, shuffle=True)\n",
    "val_loader = DataLoader(val_dataset, batch_size=16, shuffle=False)"
   ]
  },
  {
   "cell_type": "code",
   "execution_count": 6,
   "metadata": {},
   "outputs": [],
   "source": [
    "class CNN(nn.Module):\n",
    "    def __init__(self, num_classes):\n",
    "        super(CNN, self).__init__()\n",
    "        \n",
    "        self.features = nn.Sequential(\n",
    "            nn.Conv2d(3, 16, kernel_size=3, stride=1, padding=1, bias=False),\n",
    "            nn.BatchNorm2d(16),\n",
    "            nn.ReLU(),\n",
    "            nn.MaxPool2d(kernel_size=2, stride=2),\n",
    "            \n",
    "            nn.Conv2d(16, 32, kernel_size=3, stride=1, padding=1, bias=False),\n",
    "            nn.BatchNorm2d(32),\n",
    "            nn.ReLU(),\n",
    "            nn.MaxPool2d(kernel_size=2, stride=2),\n",
    "        )\n",
    "\n",
    "        self.classifier = nn.Sequential(\n",
    "            nn.Flatten(),\n",
    "            nn.Linear(32 * 56 * 56, 2048),\n",
    "            nn.ReLU(),\n",
    "            nn.Linear(2048,512),\n",
    "            nn.ReLU(),\n",
    "            nn.Linear(512, num_classes)\n",
    "        )\n",
    "\n",
    "    def forward(self, x):\n",
    "        x = self.features(x)\n",
    "        x = self.classifier(x)\n",
    "        return x"
   ]
  },
  {
   "cell_type": "code",
   "execution_count": 7,
   "metadata": {},
   "outputs": [],
   "source": [
    "device = torch.device('cuda' if torch.cuda.is_available() else 'cpu')\n",
    "model = CNN(num_classes).to(device)"
   ]
  },
  {
   "cell_type": "code",
   "execution_count": 8,
   "metadata": {},
   "outputs": [],
   "source": [
    "criterion = nn.CrossEntropyLoss()\n",
    "optimizer = optim.Adam(model.parameters(), lr=0.001)"
   ]
  },
  {
   "cell_type": "code",
   "execution_count": 9,
   "metadata": {},
   "outputs": [
    {
     "data": {
      "text/plain": [
       "==========================================================================================\n",
       "Layer (type:depth-idx)                   Output Shape              Param #\n",
       "==========================================================================================\n",
       "CNN                                      [16, 38]                  --\n",
       "├─Sequential: 1-1                        [16, 32, 56, 56]          --\n",
       "│    └─Conv2d: 2-1                       [16, 16, 224, 224]        432\n",
       "│    └─BatchNorm2d: 2-2                  [16, 16, 224, 224]        32\n",
       "│    └─ReLU: 2-3                         [16, 16, 224, 224]        --\n",
       "│    └─MaxPool2d: 2-4                    [16, 16, 112, 112]        --\n",
       "│    └─Conv2d: 2-5                       [16, 32, 112, 112]        4,608\n",
       "│    └─BatchNorm2d: 2-6                  [16, 32, 112, 112]        64\n",
       "│    └─ReLU: 2-7                         [16, 32, 112, 112]        --\n",
       "│    └─MaxPool2d: 2-8                    [16, 32, 56, 56]          --\n",
       "├─Sequential: 1-2                        [16, 38]                  --\n",
       "│    └─Flatten: 2-9                      [16, 100352]              --\n",
       "│    └─Linear: 2-10                      [16, 2048]                205,522,944\n",
       "│    └─ReLU: 2-11                        [16, 2048]                --\n",
       "│    └─Linear: 2-12                      [16, 512]                 1,049,088\n",
       "│    └─ReLU: 2-13                        [16, 512]                 --\n",
       "│    └─Linear: 2-14                      [16, 38]                  19,494\n",
       "==========================================================================================\n",
       "Total params: 206,596,662\n",
       "Trainable params: 206,596,662\n",
       "Non-trainable params: 0\n",
       "Total mult-adds (Units.GIGABYTES): 4.58\n",
       "==========================================================================================\n",
       "Input size (MB): 9.63\n",
       "Forward/backward pass size (MB): 308.61\n",
       "Params size (MB): 826.39\n",
       "Estimated Total Size (MB): 1144.63\n",
       "=========================================================================================="
      ]
     },
     "execution_count": 9,
     "metadata": {},
     "output_type": "execute_result"
    }
   ],
   "source": [
    "torchinfo.summary(model, input_size=(16,3, 224, 224), device=device.type)"
   ]
  },
  {
   "cell_type": "code",
   "execution_count": 10,
   "metadata": {},
   "outputs": [],
   "source": [
    "def calculate_accuracy(y_pred, y_true):\n",
    "    _, predicted = torch.max(y_pred, 1)\n",
    "    correct = (predicted == y_true).sum().item()\n",
    "    return correct / len(y_true)"
   ]
  },
  {
   "cell_type": "code",
   "execution_count": 12,
   "metadata": {},
   "outputs": [
    {
     "name": "stdout",
     "output_type": "stream",
     "text": [
      "Epoch [1/1], Loss: 0.5963, Accuracy: 0.8133\n",
      "Epoch [2/1], Loss: 0.4051, Accuracy: 0.8727\n",
      "Epoch [3/1], Loss: 0.3015, Accuracy: 0.9042\n",
      "Epoch [4/1], Loss: 0.2422, Accuracy: 0.9232\n",
      "Epoch [5/1], Loss: 0.1955, Accuracy: 0.9393\n"
     ]
    }
   ],
   "source": [
    "for epoch in range(5):\n",
    "    model.train()\n",
    "    total_loss = 0\n",
    "    running_accuracy = 0\n",
    "\n",
    "    for images, labels in train_loader:\n",
    "        images, labels = images.to(device), labels.to(device)\n",
    "\n",
    "        outputs = model(images)\n",
    "        loss = criterion(outputs, labels)\n",
    "\n",
    "        optimizer.zero_grad()\n",
    "        loss.backward()\n",
    "        optimizer.step()\n",
    "\n",
    "        total_loss += loss.item()\n",
    "        running_accuracy += calculate_accuracy(outputs, labels)\n",
    "\n",
    "    print(f\"Epoch [{epoch+1}/{1}], Loss: {total_loss/len(train_loader):.4f}, Accuracy: {running_accuracy/len(train_loader):.4f}\")\n",
    "\n",
    "torch.save(model.state_dict(), 'my_model.pth')"
   ]
  },
  {
   "cell_type": "code",
   "execution_count": 13,
   "metadata": {},
   "outputs": [
    {
     "name": "stdout",
     "output_type": "stream",
     "text": [
      "Validation Accuracy: 88.62%\n"
     ]
    }
   ],
   "source": [
    "model.eval()\n",
    "correct = 0\n",
    "total = 0\n",
    "with torch.no_grad():\n",
    "    for images, labels in val_loader:\n",
    "        images, labels = images.to(device), labels.to(device)\n",
    "        outputs = model(images)\n",
    "        _, predicted = torch.max(outputs.data, 1)\n",
    "        total += labels.size(0)\n",
    "        correct += (predicted == labels).sum().item()\n",
    "\n",
    "print(f\"Validation Accuracy: {100 * correct / total:.2f}%\")"
   ]
  }
 ],
 "metadata": {
  "kernelspec": {
   "display_name": "venv",
   "language": "python",
   "name": "python3"
  },
  "language_info": {
   "codemirror_mode": {
    "name": "ipython",
    "version": 3
   },
   "file_extension": ".py",
   "mimetype": "text/x-python",
   "name": "python",
   "nbconvert_exporter": "python",
   "pygments_lexer": "ipython3",
   "version": "3.12.3"
  }
 },
 "nbformat": 4,
 "nbformat_minor": 2
}
